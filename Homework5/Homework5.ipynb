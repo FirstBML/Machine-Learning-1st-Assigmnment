{
 "cells": [
  {
   "cell_type": "markdown",
   "id": "9d9741e9",
   "metadata": {},
   "source": [
    "#### Question 1\n",
    "##### Install uv\n",
    "##### What's the version of uv you installed?\n",
    "##### Use --version to find out"
   ]
  },
  {
   "cell_type": "code",
   "execution_count": 1,
   "id": "cf1329a7",
   "metadata": {},
   "outputs": [
    {
     "name": "stdout",
     "output_type": "stream",
     "text": [
      "uv 0.9.5\n"
     ]
    }
   ],
   "source": [
    "# uv version\n",
    "!uv --version"
   ]
  },
  {
   "cell_type": "markdown",
   "id": "0373ec86",
   "metadata": {},
   "source": [
    "#### Initialize an empty uv project\n",
    "#### You should create an empty folder for homework and do it there.\n",
    "\n",
    "### Question 2\n",
    "#### Use uv to install Scikit-Learn version 1.6.1\n",
    "#### What's the first hash for Scikit-Learn you get in the lock file?\n",
    "#### Include the entire string starting with sha256:, don't include quotes"
   ]
  },
  {
   "cell_type": "markdown",
   "id": "74f1c4e6",
   "metadata": {},
   "source": [
    "#### sha256:3faa5c39054b2f03ca547da9b2f52fde67c06240c31853f306aea97f13647b55\n"
   ]
  },
  {
   "cell_type": "markdown",
   "id": "e62bcffa",
   "metadata": {},
   "source": [
    "### Models\n",
    "#### We have prepared a pipeline with a dictionary vectorizer and a model.\n",
    "\n",
    "#### It was trained (roughly) using this code:\n"
   ]
  },
  {
   "cell_type": "code",
   "execution_count": 2,
   "id": "0d4bf365",
   "metadata": {},
   "outputs": [
    {
     "data": {
      "text/plain": [
       "\"\\ncategorical = ['lead_source']\\nnumeric = ['number_of_courses_viewed', 'annual_income']\\n\\ndf[categorical] = df[categorical].fillna('NA')\\ndf[numeric] = df[numeric].fillna(0)\\n\\ntrain_dict = df[categorical + numeric].to_dict(orient='records')\\n\\npipeline = make_pipeline(\\n    DictVectorizer(),\\n    LogisticRegression(solver='liblinear')\\n)\\n\\npipeline.fit(train_dict, y_train)\\n\""
      ]
     },
     "execution_count": 2,
     "metadata": {},
     "output_type": "execute_result"
    }
   ],
   "source": [
    "\"\"\"\n",
    "categorical = ['lead_source']\n",
    "numeric = ['number_of_courses_viewed', 'annual_income']\n",
    "\n",
    "df[categorical] = df[categorical].fillna('NA')\n",
    "df[numeric] = df[numeric].fillna(0)\n",
    "\n",
    "train_dict = df[categorical + numeric].to_dict(orient='records')\n",
    "\n",
    "pipeline = make_pipeline(\n",
    "    DictVectorizer(),\n",
    "    LogisticRegression(solver='liblinear')\n",
    ")\n",
    "\n",
    "pipeline.fit(train_dict, y_train)\n",
    "\"\"\""
   ]
  },
  {
   "cell_type": "markdown",
   "id": "19490415",
   "metadata": {},
   "source": [
    "#### Note: You don't need to train the model. This code is just for your reference.\n",
    "\n",
    "##### And then saved with Pickle. Download it here.\n",
    "\n",
    "#### With wget:\n",
    "\n",
    "##### wget https://github.com/DataTalksClub/machine-learning-zoomcamp/raw/refs/heads/master/cohorts/2025/05-deployment/pipeline_v1.bin\n"
   ]
  },
  {
   "cell_type": "markdown",
   "id": "40bb8b44",
   "metadata": {},
   "source": [
    "### Question 3\n",
    "#### Let's use the model!\n",
    "#### Write a script for loading the pipeline with pickle\n",
    "#### Score this record:\n",
    "#### {\n",
    "####    \"lead_source\": \"paid_ads\",\n",
    "####    \"number_of_courses_viewed\": 2,\n",
    "####    \"annual_income\": 79276.0\n",
    "#### }\n",
    "##### What's the probability that this lead will convert?\n"
   ]
  },
  {
   "cell_type": "code",
   "execution_count": 3,
   "id": "caceab59",
   "metadata": {},
   "outputs": [
    {
     "name": "stdout",
     "output_type": "stream",
     "text": [
      "--2025-10-28 10:25:35--  https://github.com/DataTalksClub/machine-learning-zoomcamp/raw/refs/heads/master/cohorts/2025/05-deployment/pipeline_v1.bin\n",
      "Resolving github.com (github.com)... 20.26.156.215\n",
      "Connecting to github.com (github.com)|20.26.156.215|:443... connected.\n",
      "HTTP request sent, awaiting response... "
     ]
    },
    {
     "name": "stdout",
     "output_type": "stream",
     "text": [
      "302 Found\n",
      "Location: https://raw.githubusercontent.com/DataTalksClub/machine-learning-zoomcamp/refs/heads/master/cohorts/2025/05-deployment/pipeline_v1.bin [following]\n",
      "--2025-10-28 10:25:35--  https://raw.githubusercontent.com/DataTalksClub/machine-learning-zoomcamp/refs/heads/master/cohorts/2025/05-deployment/pipeline_v1.bin\n",
      "Resolving raw.githubusercontent.com (raw.githubusercontent.com)... 185.199.110.133, 185.199.111.133, 185.199.108.133, ...\n",
      "Connecting to raw.githubusercontent.com (raw.githubusercontent.com)|185.199.110.133|:443... connected.\n",
      "HTTP request sent, awaiting response... 200 OK\n",
      "Length: 1300 (1.3K) [application/octet-stream]\n",
      "Saving to: ‘pipeline_v1.bin’\n",
      "\n",
      "pipeline_v1.bin     100%[===================>]   1.27K  --.-KB/s    in 0s      \n",
      "\n",
      "2025-10-28 10:25:35 (76.3 MB/s) - ‘pipeline_v1.bin’ saved [1300/1300]\n",
      "\n"
     ]
    }
   ],
   "source": [
    "!wget https://github.com/DataTalksClub/machine-learning-zoomcamp/raw/refs/heads/master/cohorts/2025/05-deployment/pipeline_v1.bin -O pipeline_v1.bin\n"
   ]
  },
  {
   "cell_type": "code",
   "execution_count": 4,
   "id": "32065702",
   "metadata": {},
   "outputs": [],
   "source": [
    "import pickle\n",
    "from fastapi import FastAPI\n",
    "from pydantic import BaseModel\n",
    "import requests"
   ]
  },
  {
   "cell_type": "code",
   "execution_count": 5,
   "id": "1e2bd6f6",
   "metadata": {},
   "outputs": [],
   "source": [
    "\n",
    "\n",
    "with open(\"pipeline_v1.bin\", \"rb\") as f:\n",
    "    model = pickle.load(f)\n"
   ]
  },
  {
   "cell_type": "code",
   "execution_count": null,
   "id": "e70a56d8",
   "metadata": {},
   "outputs": [
    {
     "name": "stdout",
     "output_type": "stream",
     "text": [
      "Probability: 0.534\n",
      "The probability that this lead will convert is 53.36%\n"
     ]
    }
   ],
   "source": [
    "# Define the record to score\n",
    "record = {\n",
    "    \"lead_source\": \"paid_ads\",\n",
    "    \"number_of_courses_viewed\": 2,\n",
    "    \"annual_income\": 79276.0\n",
    "}\n",
    "\n",
    "# Get prediction probability\n",
    "prediction = model.predict_proba([record])[0, 1]  \n",
    "print(f\"Probability: {prediction:.3f}\")\n",
    "percentage = prediction * 100\n",
    "print(f\"The probability that this lead will convert is {percentage:.2f}%\")\n"
   ]
  },
  {
   "cell_type": "markdown",
   "id": "952e5f0a",
   "metadata": {},
   "source": [
    "### Question 4\n",
    "#### Now let's serve this model as a web service\n",
    "\n",
    "#### Install FastAPI\n",
    "#### Write FastAPI code for serving the model\n",
    "#### Now score this client using requests:\n"
   ]
  },
  {
   "cell_type": "code",
   "execution_count": 9,
   "id": "bf3c29c3",
   "metadata": {},
   "outputs": [],
   "source": [
    "\n",
    "\n",
    "# Define input schema\n",
    "class Client(BaseModel):\n",
    "    lead_source: str\n",
    "    number_of_courses_viewed: int\n",
    "    annual_income: float\n",
    "\n",
    "# Load the trained model\n",
    "with open(\"pipeline_v1.bin\", \"rb\") as f_in:\n",
    "    model = pickle.load(f_in)\n",
    "\n",
    "app = FastAPI()\n",
    "\n",
    "@app.get(\"/\")\n",
    "def root():\n",
    "    return {\"message\": \"Model is live and ready!\"}\n",
    "\n",
    "@app.post(\"/clientpredict\")\n",
    "def predict(client: Client):\n",
    "    client_dict = client.dict()\n",
    "    prediction = model.predict_proba([client_dict])[0, 1]\n",
    "    return {\"subscription_probability\": round(float(prediction), 3)}\n"
   ]
  },
  {
   "cell_type": "markdown",
   "id": "9061a61c",
   "metadata": {},
   "source": [
    "#### What's the probability that this client will get a subscription?"
   ]
  },
  {
   "cell_type": "code",
   "execution_count": 10,
   "id": "db88436d",
   "metadata": {},
   "outputs": [
    {
     "name": "stdout",
     "output_type": "stream",
     "text": [
      "{'probability': 0.5340417283801275}\n"
     ]
    }
   ],
   "source": [
    "url = \"http://127.0.0.1:8000/predict\"\n",
    "client = {\n",
    "    \"lead_source\": \"organic_search\",\n",
    "    \"number_of_courses_viewed\": 4,\n",
    "    \"annual_income\": 80304.0\n",
    "}\n",
    "\n",
    "response = requests.post(url, json=client)\n",
    "print(response.json())\n"
   ]
  },
  {
   "cell_type": "markdown",
   "id": "bc25aeb3",
   "metadata": {},
   "source": [
    "### Docker\n",
    "#### Install Docker. We will use it for the next two questions.\n",
    "\n",
    "#### For these questions, we prepared a base image: agrigorev/zoomcamp-model:2025. You'll need to use it (see Question 5 for an example).\n",
    "\n",
    "#### This image is based on 3.13.5-slim-bookworm and has a pipeline with logistic regression (a different one) as well a dictionary vectorizer inside.\n",
    "\n"
   ]
  },
  {
   "cell_type": "code",
   "execution_count": null,
   "id": "c502a167",
   "metadata": {},
   "outputs": [
    {
     "data": {
      "text/plain": [
       "'\\nFROM python:3.13.5-slim-bookworm\\nWORKDIR /code\\nCOPY pipeline_v2.bin .\\n'"
      ]
     },
     "execution_count": 22,
     "metadata": {},
     "output_type": "execute_result"
    }
   ],
   "source": [
    "# This is how the Dockerfile for this image looks like:\n",
    "\"\"\"\n",
    "FROM python:3.13.5-slim-bookworm\n",
    "WORKDIR /code\n",
    "COPY pipeline_v2.bin .\n",
    "\"\"\"\n",
    "# We already built it and then pushed it to agrigorev/zoomcamp-model:2025.\n",
    "# Note: You don't need to build this docker image, it's just for your reference."
   ]
  },
  {
   "cell_type": "markdown",
   "id": "747011e6",
   "metadata": {},
   "source": [
    "### Question 5\n",
    "#### Download the base image \"agrigorev/zoomcamp-model:2025\". You can easily make it by using \"docker pull\" command.\n",
    "#### So what's the size of this base image?\n",
    "#### You can get this information when running docker images - it'll be in the \"SIZE\" column."
   ]
  },
  {
   "cell_type": "code",
   "execution_count": null,
   "id": "1b697415",
   "metadata": {},
   "outputs": [],
   "source": [
    "# docker pull agrigorev/zoomcamp-model:2025"
   ]
  },
  {
   "cell_type": "code",
   "execution_count": null,
   "id": "815da5e7",
   "metadata": {},
   "outputs": [
    {
     "name": "stdout",
     "output_type": "stream",
     "text": [
      "REPOSITORY                 TAG       IMAGE ID       CREATED          SIZE\n",
      "zoomcamp-app               latest    6e5685d7fd28   33 minutes ago   947MB\n",
      "agrigorev/zoomcamp-model   2025      4a9ecc576ae9   7 days ago       121MB\n"
     ]
    }
   ],
   "source": [
    "!docker images"
   ]
  },
  {
   "cell_type": "markdown",
   "id": "2b405b65",
   "metadata": {},
   "source": [
    "### Dockerfile\n",
    "#### Now create your own Dockerfile based on the image we prepared.\n",
    "#### It should start like that:\n",
    "\n",
    "#### \"FROM agrigorev/zoomcamp-model:2025\n",
    "####  add your stuff here\"\n",
    "#### Now complete it:\n",
    "\n",
    "#### Install all the dependencies from pyproject.toml\n",
    "#### Copy your FastAPI script\n",
    "#### Run it with uvicorn\n",
    "#### After that, you can build your docker image.\n",
    "\n",
    "### Question 6\n",
    "#### Let's run your docker container!\n",
    "#### After running it, score this client once again"
   ]
  },
  {
   "cell_type": "markdown",
   "id": "e80c77e9",
   "metadata": {},
   "source": [
    "### What's the probability that this lead will convert?"
   ]
  },
  {
   "cell_type": "code",
   "execution_count": null,
   "id": "355d8d3a",
   "metadata": {},
   "outputs": [],
   "source": [
    "# Build the Docker image\n",
    "# docker build -t zoomcamp-app ."
   ]
  },
  {
   "cell_type": "code",
   "execution_count": null,
   "id": "233f31d0",
   "metadata": {},
   "outputs": [],
   "source": [
    "# Start the container and map port 8000:\n",
    "# docker run -it --rm -p 8000:8000 zoomcamp-app"
   ]
  },
  {
   "cell_type": "code",
   "execution_count": null,
   "id": "2ac69a21",
   "metadata": {},
   "outputs": [
    {
     "name": "stdout",
     "output_type": "stream",
     "text": [
      "{'probability': 0.5340417283801275}\n"
     ]
    }
   ],
   "source": [
    "# Send the request\n",
    "\n",
    "url = \"http://localhost:8000/predict\"  \n",
    "client = {\n",
    "    \"lead_source\": \"organic_search\",\n",
    "    \"number_of_courses_viewed\": 4,\n",
    "    \"annual_income\": 80304.0\n",
    "}\n",
    "\n",
    "response = requests.post(url, json=client).json()\n",
    "print(response)\n"
   ]
  }
 ],
 "metadata": {
  "kernelspec": {
   "display_name": "Python (Homework5)",
   "language": "python",
   "name": "homework5"
  },
  "language_info": {
   "codemirror_mode": {
    "name": "ipython",
    "version": 3
   },
   "file_extension": ".py",
   "mimetype": "text/x-python",
   "name": "python",
   "nbconvert_exporter": "python",
   "pygments_lexer": "ipython3",
   "version": "3.12.1"
  }
 },
 "nbformat": 4,
 "nbformat_minor": 5
}
