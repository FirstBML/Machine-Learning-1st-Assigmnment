{
 "cells": [
  {
   "cell_type": "markdown",
   "id": "9d9741e9",
   "metadata": {},
   "source": [
    "#### Question 1\n",
    "##### Install uv\n",
    "##### What's the version of uv you installed?\n",
    "##### Use --version to find out"
   ]
  },
  {
   "cell_type": "markdown",
   "id": "cf1329a7",
   "metadata": {},
   "source": [
    "#### uv version - uv 0.9.5"
   ]
  },
  {
   "cell_type": "markdown",
   "id": "0373ec86",
   "metadata": {},
   "source": [
    "#### Initialize an empty uv project\n",
    "#### You should create an empty folder for homework and do it there.\n",
    "\n",
    "### Question 2\n",
    "#### Use uv to install Scikit-Learn version 1.6.1\n",
    "#### What's the first hash for Scikit-Learn you get in the lock file?\n",
    "#### Include the entire string starting with sha256:, don't include quotes"
   ]
  },
  {
   "cell_type": "markdown",
   "id": "74f1c4e6",
   "metadata": {},
   "source": [
    "#### sha256:3faa5c39054b2f03ca547da9b2f52fde67c06240c31853f306aea97f13647b55\n"
   ]
  },
  {
   "cell_type": "markdown",
   "id": "e62bcffa",
   "metadata": {},
   "source": [
    "### Models\n",
    "#### We have prepared a pipeline with a dictionary vectorizer and a model.\n",
    "\n",
    "#### It was trained (roughly) using this code:\n"
   ]
  },
  {
   "cell_type": "code",
   "execution_count": 24,
   "id": "0d4bf365",
   "metadata": {},
   "outputs": [
    {
     "data": {
      "text/plain": [
       "\"\\ncategorical = ['lead_source']\\nnumeric = ['number_of_courses_viewed', 'annual_income']\\n\\ndf[categorical] = df[categorical].fillna('NA')\\ndf[numeric] = df[numeric].fillna(0)\\n\\ntrain_dict = df[categorical + numeric].to_dict(orient='records')\\n\\npipeline = make_pipeline(\\n    DictVectorizer(),\\n    LogisticRegression(solver='liblinear')\\n)\\n\\npipeline.fit(train_dict, y_train)\\n\""
      ]
     },
     "execution_count": 24,
     "metadata": {},
     "output_type": "execute_result"
    }
   ],
   "source": [
    "\"\"\"\n",
    "categorical = ['lead_source']\n",
    "numeric = ['number_of_courses_viewed', 'annual_income']\n",
    "\n",
    "df[categorical] = df[categorical].fillna('NA')\n",
    "df[numeric] = df[numeric].fillna(0)\n",
    "\n",
    "train_dict = df[categorical + numeric].to_dict(orient='records')\n",
    "\n",
    "pipeline = make_pipeline(\n",
    "    DictVectorizer(),\n",
    "    LogisticRegression(solver='liblinear')\n",
    ")\n",
    "\n",
    "pipeline.fit(train_dict, y_train)\n",
    "\"\"\""
   ]
  },
  {
   "cell_type": "markdown",
   "id": "19490415",
   "metadata": {},
   "source": [
    "#### Note: You don't need to train the model. This code is just for your reference.\n",
    "\n",
    "##### And then saved with Pickle. Download it here.\n",
    "\n",
    "#### With wget:\n",
    "\n",
    "##### wget https://github.com/DataTalksClub/machine-learning-zoomcamp/raw/refs/heads/master/cohorts/2025/05-deployment/pipeline_v1.bin\n"
   ]
  },
  {
   "cell_type": "markdown",
   "id": "40bb8b44",
   "metadata": {},
   "source": [
    "### Question 3\n",
    "#### Let's use the model!\n",
    "#### Write a script for loading the pipeline with pickle\n",
    "#### Score this record:\n",
    "#### {\n",
    "####    \"lead_source\": \"paid_ads\",\n",
    "####    \"number_of_courses_viewed\": 2,\n",
    "####    \"annual_income\": 79276.0\n",
    "#### }\n",
    "##### What's the probability that this lead will convert?\n"
   ]
  },
  {
   "cell_type": "code",
   "execution_count": 25,
   "id": "caceab59",
   "metadata": {},
   "outputs": [
    {
     "name": "stdout",
     "output_type": "stream",
     "text": [
      "--2025-10-27 17:33:45--  https://github.com/DataTalksClub/machine-learning-zoomcamp/raw/refs/heads/master/cohorts/2025/05-deployment/pipeline_v1.bin\n",
      "Resolving github.com (github.com)... 20.26.156.215\n",
      "Connecting to github.com (github.com)|20.26.156.215|:443... connected.\n",
      "HTTP request sent, awaiting response... "
     ]
    },
    {
     "name": "stdout",
     "output_type": "stream",
     "text": [
      "302 Found\n",
      "Location: https://raw.githubusercontent.com/DataTalksClub/machine-learning-zoomcamp/refs/heads/master/cohorts/2025/05-deployment/pipeline_v1.bin [following]\n",
      "--2025-10-27 17:33:45--  https://raw.githubusercontent.com/DataTalksClub/machine-learning-zoomcamp/refs/heads/master/cohorts/2025/05-deployment/pipeline_v1.bin\n",
      "Resolving raw.githubusercontent.com (raw.githubusercontent.com)... 185.199.109.133, 185.199.110.133, 185.199.111.133, ...\n",
      "Connecting to raw.githubusercontent.com (raw.githubusercontent.com)|185.199.109.133|:443... connected.\n",
      "HTTP request sent, awaiting response... 200 OK\n",
      "Length: 1300 (1.3K) [application/octet-stream]\n",
      "Saving to: ‘pipeline_v1.bin’\n",
      "\n",
      "pipeline_v1.bin     100%[===================>]   1.27K  --.-KB/s    in 0s      \n",
      "\n",
      "2025-10-27 17:33:45 (66.7 MB/s) - ‘pipeline_v1.bin’ saved [1300/1300]\n",
      "\n"
     ]
    }
   ],
   "source": [
    "!wget https://github.com/DataTalksClub/machine-learning-zoomcamp/raw/refs/heads/master/cohorts/2025/05-deployment/pipeline_v1.bin -O pipeline_v1.bin\n"
   ]
  },
  {
   "cell_type": "code",
   "execution_count": 26,
   "id": "32065702",
   "metadata": {},
   "outputs": [],
   "source": [
    "import pickle\n",
    "from fastapi import FastAPI\n",
    "from pydantic import BaseModel\n",
    "import requests"
   ]
  },
  {
   "cell_type": "code",
   "execution_count": 27,
   "id": "1e2bd6f6",
   "metadata": {},
   "outputs": [],
   "source": [
    "\n",
    "\n",
    "with open(\"pipeline_v1.bin\", \"rb\") as f:\n",
    "    model = pickle.load(f)\n"
   ]
  },
  {
   "cell_type": "code",
   "execution_count": 28,
   "id": "e70a56d8",
   "metadata": {},
   "outputs": [
    {
     "name": "stdout",
     "output_type": "stream",
     "text": [
      "Probability: 0.534\n",
      "The probability that this lead will convert is 53.36%\n"
     ]
    }
   ],
   "source": [
    "# Define the record to score\n",
    "record = {\n",
    "    \"lead_source\": \"paid_ads\",\n",
    "    \"number_of_courses_viewed\": 2,\n",
    "    \"annual_income\": 79276.0\n",
    "}\n",
    "\n",
    "# Get prediction probability\n",
    "prediction = model.predict_proba([record])[0, 1]  # probability of conversion (class=1)\n",
    "print(f\"Probability: {prediction:.3f}\")\n",
    "percentage = prediction * 100\n",
    "print(f\"The probability that this lead will convert is {percentage:.2f}%\")\n"
   ]
  },
  {
   "cell_type": "markdown",
   "id": "952e5f0a",
   "metadata": {},
   "source": [
    "### Question 4\n",
    "#### Now let's serve this model as a web service\n",
    "\n",
    "#### Install FastAPI\n",
    "#### Write FastAPI code for serving the model\n",
    "#### Now score this client using requests:\n"
   ]
  },
  {
   "cell_type": "code",
   "execution_count": 29,
   "id": "bf3c29c3",
   "metadata": {},
   "outputs": [],
   "source": [
    "\n",
    "\n",
    "# Define input schema\n",
    "class Client(BaseModel):\n",
    "    lead_source: str\n",
    "    number_of_courses_viewed: int\n",
    "    annual_income: float\n",
    "\n",
    "# Load the trained model\n",
    "with open(\"pipeline_v1.bin\", \"rb\") as f_in:\n",
    "    model = pickle.load(f_in)\n",
    "\n",
    "app = FastAPI()\n",
    "\n",
    "@app.get(\"/\")\n",
    "def root():\n",
    "    return {\"message\": \"Model is live and ready!\"}\n",
    "\n",
    "@app.post(\"/clientpredict\")\n",
    "def predict(client: Client):\n",
    "    client_dict = client.dict()\n",
    "    prediction = model.predict_proba([client_dict])[0, 1]\n",
    "    return {\"subscription_probability\": round(float(prediction), 3)}\n"
   ]
  },
  {
   "cell_type": "markdown",
   "id": "9061a61c",
   "metadata": {},
   "source": [
    "#### What's the probability that this client will get a subscription?"
   ]
  },
  {
   "cell_type": "code",
   "execution_count": 30,
   "id": "db88436d",
   "metadata": {},
   "outputs": [
    {
     "name": "stdout",
     "output_type": "stream",
     "text": [
      "{'probability': 0.5340417283801275}\n"
     ]
    }
   ],
   "source": [
    "url = \"http://127.0.0.1:8000/predict\"\n",
    "client = {\n",
    "    \"lead_source\": \"organic_search\",\n",
    "    \"number_of_courses_viewed\": 4,\n",
    "    \"annual_income\": 80304.0\n",
    "}\n",
    "\n",
    "response = requests.post(url, json=client)\n",
    "print(response.json())\n"
   ]
  },
  {
   "cell_type": "markdown",
   "id": "bc25aeb3",
   "metadata": {},
   "source": []
  }
 ],
 "metadata": {
  "kernelspec": {
   "display_name": "Python (Homework5)",
   "language": "python",
   "name": "homework5"
  },
  "language_info": {
   "codemirror_mode": {
    "name": "ipython",
    "version": 3
   },
   "file_extension": ".py",
   "mimetype": "text/x-python",
   "name": "python",
   "nbconvert_exporter": "python",
   "pygments_lexer": "ipython3",
   "version": "3.12.1"
  }
 },
 "nbformat": 4,
 "nbformat_minor": 5
}
